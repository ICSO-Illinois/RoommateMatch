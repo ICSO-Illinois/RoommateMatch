{
 "nbformat": 4,
 "nbformat_minor": 2,
 "metadata": {
  "language_info": {
   "name": "python",
   "codemirror_mode": {
    "name": "ipython",
    "version": 3
   },
   "version": "3.7.7-final"
  },
  "orig_nbformat": 2,
  "file_extension": ".py",
  "mimetype": "text/x-python",
  "name": "python",
  "npconvert_exporter": "python",
  "pygments_lexer": "ipython3",
  "version": 3,
  "kernelspec": {
   "name": "python37564bitbasecondae1ac885941904b418da0546040deb029",
   "display_name": "Python 3.7.5 64-bit ('base': conda)"
  }
 },
 "cells": [
  {
   "cell_type": "code",
   "execution_count": 2,
   "metadata": {},
   "outputs": [],
   "source": [
    "import pandas as pd\n",
    "import numpy as np"
   ]
  },
  {
   "cell_type": "code",
   "execution_count": 3,
   "metadata": {},
   "outputs": [],
   "source": [
    "# data_file\n",
    "data = pd.read_excel(r\"D:\\Documents\\UIUC\\ICSO\\Matching_with_python\\MatchFile.xlsx\")\n",
    "# weight\n",
    "arbitary_large_num = 10000000\n",
    "party = 4\n",
    "music = 3\n",
    "keyboard = 2\n",
    "clean = 3"
   ]
  },
  {
   "cell_type": "code",
   "execution_count": 7,
   "metadata": {},
   "outputs": [
    {
     "output_type": "execute_result",
     "data": {
      "text/plain": "            姓名（必填）  性别（必填）             您的学校邮箱（必填）  \\\n0              刘明骏       0  mingjun6@Illinois.edu   \n1              王家硕       0  jiashuo3@illinois.edu   \n2              魏心夷       1    xwei16@Illinois.edu   \n3              ysc       1    syan17@illinois.edu   \n4              熊大为       0   daweix3@illinois.edu   \n5      葛子宁Simon Ge       0  ziningg2@illinois.edu   \n6      Xiaojun Jia       1  xiaojun9@illinois.edu   \n7              王一安       0    yianw3@illinois.edu   \n8   杨启帆 Qifan Yang       0    qifan2@illinois.edu   \n9         吴雯霏Celia       1  wenfeiw2@illinois.edu   \n10      Alex Jiang       0  chenhan5@illinois.edu   \n11              周默       0      moz4@illinois.edu   \n12             肖旭航       0  xuhangx2@illinois.edu   \n\n                                      所偏好的所有PCH宿舍（必填）  \\\n0                                         Presby Hall   \n1           Hendrick House, Illini Tower, Newman Hall   \n2                                       None of above   \n3   Armory House, Bromley Hall, Brown House on Col...   \n4           Armory House, Hendrick House, Presby Hall   \n5                        Hendrick House, Illini Tower   \n6                                         Presby Hall   \n7                                         Presby Hall   \n8                                       None of above   \n9                                        Armory House   \n10             Armory House, Newman Hall, Presby Hall   \n11                                       Armory House   \n12                                       Armory House   \n\n                                      所偏好的所有URH宿舍（必填）  是否有在寝室开party的需求（必填）  \\\n0                                       None of Above                    1   \n1                                       None of Above                    1   \n2   URBANA NORTH (Illinois Street Residence Halls ...                    1   \n3   URBANA NORTH (Unit One/Allen Hall）, URBANA NOR...                    1   \n4   URBANA NORTH (Unit One/Allen Hall）, URBANA NOR...                    1   \n5                    IKENBERRY COMMONS NORTH (Nugent)                    1   \n6                                       None of Above                    1   \n7   URBANA SOUTH (Florida Avenue Residence Halls (...                    1   \n8   URBANA SOUTH (Florida Avenue Residence Halls (...                    1   \n9                                       None of Above                    1   \n10                                      None of Above                    1   \n11                                      None of Above                    1   \n12                                      None of Above                    1   \n\n    是否有在寝室玩乐器的需求（必填）  是否有使用机械键盘的习惯（必填）  平均睡觉时间（必填）  平均起床时间（必填）  ...  \\\n0                  1                 0           2           3  ...   \n1                  0                 1           2           3  ...   \n2                  1                 0           2           3  ...   \n3                  1                 1           3           5  ...   \n4                  0                 0           4           5  ...   \n5                  1                 1           2           4  ...   \n6                  1                 1           4           4  ...   \n7                  1                 0           3           3  ...   \n8                  1                 1           3           3  ...   \n9                  1                 1           3           4  ...   \n10                 1                 1           3           4  ...   \n11                 1                 1           3           3  ...   \n12                 1                 1           3           3  ...   \n\n                                   希望室友所在的学院（可多选）（必填）  \\\n0   The Grainger College of Engineering., College ...   \n1   Gies College of Business (GIES), College of Li...   \n2   The Grainger College of Engineering., Gies Col...   \n3   The Grainger College of Engineering., College ...   \n4   The Grainger College of Engineering., College ...   \n5                The Grainger College of Engineering.   \n6   The Grainger College of Engineering., Gies Col...   \n7          College of Liberal Arts and Sciences (LAS)   \n8   The Grainger College of Engineering., College ...   \n9   The Grainger College of Engineering., College ...   \n10  The Grainger College of Engineering., College ...   \n11  The Grainger College of Engineering., College ...   \n12  The Grainger College of Engineering., College ...   \n\n    我同意将我的邮箱自动发送给推荐的匹配室友（必填）  我已知晓除姓名邮箱以外的所有信息都不会泄漏给任何个体或者组织（必填） 是否有饮酒习惯（必填）  \\\n0                          0                                   0           1   \n1                          0                                   0           1   \n2                          0                                   0           1   \n3                          1                                   0           1   \n4                          0                                   0           1   \n5                          0                                   0           1   \n6                          0                                   0           1   \n7                          0                                   0           1   \n8                          0                                   0           1   \n9                          0                                   0           1   \n10                         0                                   0           0   \n11                         0                                   0           1   \n12                         0                                   0           1   \n\n    是否有吸烟习惯  室友保持整洁干净的重要性（必填）  是否接受室友吸烟（必填）  是否接受室友饮酒（必填）  \\\n0         1                 4             0             1   \n1         1                 4             0             1   \n2         1                 5             0             0   \n3         1                 4             0             0   \n4         1                 4             0             1   \n5         1                 4             0             1   \n6         1                 3             0             1   \n7         1                 3             1             0   \n8         1                 4             0             0   \n9         1                 3             0             1   \n10        1                 4             0             0   \n11        0                 4             1             1   \n12        1                 4             0             0   \n\n                                     希望留给推荐匹配室友的话（必填）  \\\n0                                     果然替身使者之间是会互相吸引的   \n1   我来自青岛 打电脑游戏比较多 会玩cod，pubg，王者 平时有点懒 但是室内卫生比较重视 ...   \n2                                          hi，很高兴认识你!   \n3   想要找到舍友后一起选宿舍 还是想住单人间 然后住一个suite里面那种 有想一起的拜托联系一...   \n4                        如果匹配成功的话 我们就可以成为这个算法的验证数据集了～   \n5                             I hope to meet u soon:)   \n6                  你好鸭你好鸭 我微信jxj2297903127 不介意的话加一下呗🌟   \n7   好兄弟好，我四川成都人，心理学专业，喜欢玩TFT和LOL，目前在presby寻找好兄弟们一起...   \n8   你好啊哈哈 我个人偏安静 大学目标是认真学习 当然 绝对不是书呆子。爱好的话 我很喜欢打篮球...   \n9   Hello！很高兴认识你呀，我自认为是一个不难相处的人，如果可以顺利成为室友的话希望可以一起...   \n10                                          在玉米地里一起锤炼   \n11  Hello,这么有缘分能匹配到你。感兴趣的话请联系我，我的邮箱是1724339876@qq....   \n12                                                  .   \n\n     我确认填写的illinois邮箱准确无误（必填）  \n0   我已确认并且知晓无效邮箱将无法收到推荐室友匹配结果  \n1   我已确认并且知晓无效邮箱将无法收到推荐室友匹配结果  \n2   我已确认并且知晓无效邮箱将无法收到推荐室友匹配结果  \n3   我已确认并且知晓无效邮箱将无法收到推荐室友匹配结果  \n4   我已确认并且知晓无效邮箱将无法收到推荐室友匹配结果  \n5   我已确认并且知晓无效邮箱将无法收到推荐室友匹配结果  \n6   我已确认并且知晓无效邮箱将无法收到推荐室友匹配结果  \n7   我已确认并且知晓无效邮箱将无法收到推荐室友匹配结果  \n8   我已确认并且知晓无效邮箱将无法收到推荐室友匹配结果  \n9   我已确认并且知晓无效邮箱将无法收到推荐室友匹配结果  \n10  我已确认并且知晓无效邮箱将无法收到推荐室友匹配结果  \n11  我已确认并且知晓无效邮箱将无法收到推荐室友匹配结果  \n12  我已确认并且知晓无效邮箱将无法收到推荐室友匹配结果  \n\n[13 rows x 23 columns]",
      "text/html": "<div>\n<style scoped>\n    .dataframe tbody tr th:only-of-type {\n        vertical-align: middle;\n    }\n\n    .dataframe tbody tr th {\n        vertical-align: top;\n    }\n\n    .dataframe thead th {\n        text-align: right;\n    }\n</style>\n<table border=\"1\" class=\"dataframe\">\n  <thead>\n    <tr style=\"text-align: right;\">\n      <th></th>\n      <th>姓名（必填）</th>\n      <th>性别（必填）</th>\n      <th>您的学校邮箱（必填）</th>\n      <th>所偏好的所有PCH宿舍（必填）</th>\n      <th>所偏好的所有URH宿舍（必填）</th>\n      <th>是否有在寝室开party的需求（必填）</th>\n      <th>是否有在寝室玩乐器的需求（必填）</th>\n      <th>是否有使用机械键盘的习惯（必填）</th>\n      <th>平均睡觉时间（必填）</th>\n      <th>平均起床时间（必填）</th>\n      <th>...</th>\n      <th>希望室友所在的学院（可多选）（必填）</th>\n      <th>我同意将我的邮箱自动发送给推荐的匹配室友（必填）</th>\n      <th>我已知晓除姓名邮箱以外的所有信息都不会泄漏给任何个体或者组织（必填）</th>\n      <th>是否有饮酒习惯（必填）</th>\n      <th>是否有吸烟习惯</th>\n      <th>室友保持整洁干净的重要性（必填）</th>\n      <th>是否接受室友吸烟（必填）</th>\n      <th>是否接受室友饮酒（必填）</th>\n      <th>希望留给推荐匹配室友的话（必填）</th>\n      <th>我确认填写的illinois邮箱准确无误（必填）</th>\n    </tr>\n  </thead>\n  <tbody>\n    <tr>\n      <th>0</th>\n      <td>刘明骏</td>\n      <td>0</td>\n      <td>mingjun6@Illinois.edu</td>\n      <td>Presby Hall</td>\n      <td>None of Above</td>\n      <td>1</td>\n      <td>1</td>\n      <td>0</td>\n      <td>2</td>\n      <td>3</td>\n      <td>...</td>\n      <td>The Grainger College of Engineering., College ...</td>\n      <td>0</td>\n      <td>0</td>\n      <td>1</td>\n      <td>1</td>\n      <td>4</td>\n      <td>0</td>\n      <td>1</td>\n      <td>果然替身使者之间是会互相吸引的</td>\n      <td>我已确认并且知晓无效邮箱将无法收到推荐室友匹配结果</td>\n    </tr>\n    <tr>\n      <th>1</th>\n      <td>王家硕</td>\n      <td>0</td>\n      <td>jiashuo3@illinois.edu</td>\n      <td>Hendrick House, Illini Tower, Newman Hall</td>\n      <td>None of Above</td>\n      <td>1</td>\n      <td>0</td>\n      <td>1</td>\n      <td>2</td>\n      <td>3</td>\n      <td>...</td>\n      <td>Gies College of Business (GIES), College of Li...</td>\n      <td>0</td>\n      <td>0</td>\n      <td>1</td>\n      <td>1</td>\n      <td>4</td>\n      <td>0</td>\n      <td>1</td>\n      <td>我来自青岛 打电脑游戏比较多 会玩cod，pubg，王者 平时有点懒 但是室内卫生比较重视 ...</td>\n      <td>我已确认并且知晓无效邮箱将无法收到推荐室友匹配结果</td>\n    </tr>\n    <tr>\n      <th>2</th>\n      <td>魏心夷</td>\n      <td>1</td>\n      <td>xwei16@Illinois.edu</td>\n      <td>None of above</td>\n      <td>URBANA NORTH (Illinois Street Residence Halls ...</td>\n      <td>1</td>\n      <td>1</td>\n      <td>0</td>\n      <td>2</td>\n      <td>3</td>\n      <td>...</td>\n      <td>The Grainger College of Engineering., Gies Col...</td>\n      <td>0</td>\n      <td>0</td>\n      <td>1</td>\n      <td>1</td>\n      <td>5</td>\n      <td>0</td>\n      <td>0</td>\n      <td>hi，很高兴认识你!</td>\n      <td>我已确认并且知晓无效邮箱将无法收到推荐室友匹配结果</td>\n    </tr>\n    <tr>\n      <th>3</th>\n      <td>ysc</td>\n      <td>1</td>\n      <td>syan17@illinois.edu</td>\n      <td>Armory House, Bromley Hall, Brown House on Col...</td>\n      <td>URBANA NORTH (Unit One/Allen Hall）, URBANA NOR...</td>\n      <td>1</td>\n      <td>1</td>\n      <td>1</td>\n      <td>3</td>\n      <td>5</td>\n      <td>...</td>\n      <td>The Grainger College of Engineering., College ...</td>\n      <td>1</td>\n      <td>0</td>\n      <td>1</td>\n      <td>1</td>\n      <td>4</td>\n      <td>0</td>\n      <td>0</td>\n      <td>想要找到舍友后一起选宿舍 还是想住单人间 然后住一个suite里面那种 有想一起的拜托联系一...</td>\n      <td>我已确认并且知晓无效邮箱将无法收到推荐室友匹配结果</td>\n    </tr>\n    <tr>\n      <th>4</th>\n      <td>熊大为</td>\n      <td>0</td>\n      <td>daweix3@illinois.edu</td>\n      <td>Armory House, Hendrick House, Presby Hall</td>\n      <td>URBANA NORTH (Unit One/Allen Hall）, URBANA NOR...</td>\n      <td>1</td>\n      <td>0</td>\n      <td>0</td>\n      <td>4</td>\n      <td>5</td>\n      <td>...</td>\n      <td>The Grainger College of Engineering., College ...</td>\n      <td>0</td>\n      <td>0</td>\n      <td>1</td>\n      <td>1</td>\n      <td>4</td>\n      <td>0</td>\n      <td>1</td>\n      <td>如果匹配成功的话 我们就可以成为这个算法的验证数据集了～</td>\n      <td>我已确认并且知晓无效邮箱将无法收到推荐室友匹配结果</td>\n    </tr>\n    <tr>\n      <th>5</th>\n      <td>葛子宁Simon Ge</td>\n      <td>0</td>\n      <td>ziningg2@illinois.edu</td>\n      <td>Hendrick House, Illini Tower</td>\n      <td>IKENBERRY COMMONS NORTH (Nugent)</td>\n      <td>1</td>\n      <td>1</td>\n      <td>1</td>\n      <td>2</td>\n      <td>4</td>\n      <td>...</td>\n      <td>The Grainger College of Engineering.</td>\n      <td>0</td>\n      <td>0</td>\n      <td>1</td>\n      <td>1</td>\n      <td>4</td>\n      <td>0</td>\n      <td>1</td>\n      <td>I hope to meet u soon:)</td>\n      <td>我已确认并且知晓无效邮箱将无法收到推荐室友匹配结果</td>\n    </tr>\n    <tr>\n      <th>6</th>\n      <td>Xiaojun Jia</td>\n      <td>1</td>\n      <td>xiaojun9@illinois.edu</td>\n      <td>Presby Hall</td>\n      <td>None of Above</td>\n      <td>1</td>\n      <td>1</td>\n      <td>1</td>\n      <td>4</td>\n      <td>4</td>\n      <td>...</td>\n      <td>The Grainger College of Engineering., Gies Col...</td>\n      <td>0</td>\n      <td>0</td>\n      <td>1</td>\n      <td>1</td>\n      <td>3</td>\n      <td>0</td>\n      <td>1</td>\n      <td>你好鸭你好鸭 我微信jxj2297903127 不介意的话加一下呗🌟</td>\n      <td>我已确认并且知晓无效邮箱将无法收到推荐室友匹配结果</td>\n    </tr>\n    <tr>\n      <th>7</th>\n      <td>王一安</td>\n      <td>0</td>\n      <td>yianw3@illinois.edu</td>\n      <td>Presby Hall</td>\n      <td>URBANA SOUTH (Florida Avenue Residence Halls (...</td>\n      <td>1</td>\n      <td>1</td>\n      <td>0</td>\n      <td>3</td>\n      <td>3</td>\n      <td>...</td>\n      <td>College of Liberal Arts and Sciences (LAS)</td>\n      <td>0</td>\n      <td>0</td>\n      <td>1</td>\n      <td>1</td>\n      <td>3</td>\n      <td>1</td>\n      <td>0</td>\n      <td>好兄弟好，我四川成都人，心理学专业，喜欢玩TFT和LOL，目前在presby寻找好兄弟们一起...</td>\n      <td>我已确认并且知晓无效邮箱将无法收到推荐室友匹配结果</td>\n    </tr>\n    <tr>\n      <th>8</th>\n      <td>杨启帆 Qifan Yang</td>\n      <td>0</td>\n      <td>qifan2@illinois.edu</td>\n      <td>None of above</td>\n      <td>URBANA SOUTH (Florida Avenue Residence Halls (...</td>\n      <td>1</td>\n      <td>1</td>\n      <td>1</td>\n      <td>3</td>\n      <td>3</td>\n      <td>...</td>\n      <td>The Grainger College of Engineering., College ...</td>\n      <td>0</td>\n      <td>0</td>\n      <td>1</td>\n      <td>1</td>\n      <td>4</td>\n      <td>0</td>\n      <td>0</td>\n      <td>你好啊哈哈 我个人偏安静 大学目标是认真学习 当然 绝对不是书呆子。爱好的话 我很喜欢打篮球...</td>\n      <td>我已确认并且知晓无效邮箱将无法收到推荐室友匹配结果</td>\n    </tr>\n    <tr>\n      <th>9</th>\n      <td>吴雯霏Celia</td>\n      <td>1</td>\n      <td>wenfeiw2@illinois.edu</td>\n      <td>Armory House</td>\n      <td>None of Above</td>\n      <td>1</td>\n      <td>1</td>\n      <td>1</td>\n      <td>3</td>\n      <td>4</td>\n      <td>...</td>\n      <td>The Grainger College of Engineering., College ...</td>\n      <td>0</td>\n      <td>0</td>\n      <td>1</td>\n      <td>1</td>\n      <td>3</td>\n      <td>0</td>\n      <td>1</td>\n      <td>Hello！很高兴认识你呀，我自认为是一个不难相处的人，如果可以顺利成为室友的话希望可以一起...</td>\n      <td>我已确认并且知晓无效邮箱将无法收到推荐室友匹配结果</td>\n    </tr>\n    <tr>\n      <th>10</th>\n      <td>Alex Jiang</td>\n      <td>0</td>\n      <td>chenhan5@illinois.edu</td>\n      <td>Armory House, Newman Hall, Presby Hall</td>\n      <td>None of Above</td>\n      <td>1</td>\n      <td>1</td>\n      <td>1</td>\n      <td>3</td>\n      <td>4</td>\n      <td>...</td>\n      <td>The Grainger College of Engineering., College ...</td>\n      <td>0</td>\n      <td>0</td>\n      <td>0</td>\n      <td>1</td>\n      <td>4</td>\n      <td>0</td>\n      <td>0</td>\n      <td>在玉米地里一起锤炼</td>\n      <td>我已确认并且知晓无效邮箱将无法收到推荐室友匹配结果</td>\n    </tr>\n    <tr>\n      <th>11</th>\n      <td>周默</td>\n      <td>0</td>\n      <td>moz4@illinois.edu</td>\n      <td>Armory House</td>\n      <td>None of Above</td>\n      <td>1</td>\n      <td>1</td>\n      <td>1</td>\n      <td>3</td>\n      <td>3</td>\n      <td>...</td>\n      <td>The Grainger College of Engineering., College ...</td>\n      <td>0</td>\n      <td>0</td>\n      <td>1</td>\n      <td>0</td>\n      <td>4</td>\n      <td>1</td>\n      <td>1</td>\n      <td>Hello,这么有缘分能匹配到你。感兴趣的话请联系我，我的邮箱是1724339876@qq....</td>\n      <td>我已确认并且知晓无效邮箱将无法收到推荐室友匹配结果</td>\n    </tr>\n    <tr>\n      <th>12</th>\n      <td>肖旭航</td>\n      <td>0</td>\n      <td>xuhangx2@illinois.edu</td>\n      <td>Armory House</td>\n      <td>None of Above</td>\n      <td>1</td>\n      <td>1</td>\n      <td>1</td>\n      <td>3</td>\n      <td>3</td>\n      <td>...</td>\n      <td>The Grainger College of Engineering., College ...</td>\n      <td>0</td>\n      <td>0</td>\n      <td>1</td>\n      <td>1</td>\n      <td>4</td>\n      <td>0</td>\n      <td>0</td>\n      <td>.</td>\n      <td>我已确认并且知晓无效邮箱将无法收到推荐室友匹配结果</td>\n    </tr>\n  </tbody>\n</table>\n<p>13 rows × 23 columns</p>\n</div>"
     },
     "metadata": {},
     "execution_count": 7
    }
   ],
   "source": [
    "# Preprocess data, replace some cells and drop duplicate emails/names\n",
    "data_copy = data.copy().drop(columns=[\"提交者（自动）\",\"提交时间（自动）\"]).drop_duplicates(['您的学校邮箱（必填）']).drop_duplicates(['姓名（必填）'])\n",
    "data_copy = data_copy.replace({'Male':0,\"Female\":1,False:1, True:0, 'Yes':1, 'No':0})\n",
    "data_copy = data_copy.replace(['Before 22:00', '22:00 - 22:59', \"23:00 - 23:59\", \"00:00 - 00:59\", 'After 01:00 a.m.'], [1, 2, 3, 4, 5])\n",
    "data_copy = data_copy.replace([\"Before 06:00\", \"06:00 - 06:59\", \"07:00 - 07:59\", \"08:00 - 08:59\", \"After 09:00 a.m.\"], [1, 2, 3, 4, 5])\n",
    "data_copy"
   ]
  },
  {
   "cell_type": "code",
   "execution_count": 21,
   "metadata": {},
   "outputs": [
    {
     "output_type": "stream",
     "name": "stdout",
     "text": "刘明骏\n[('刘明骏', 0.0), ('王家硕', 3.605551275463989), ('葛子宁', 3.605551275463989), ('杨启帆', 3.605551275463989), ('肖旭航', 3.605551275463989), ('王一安', 4.242640687119285), ('熊大为', 9.0)]\n王家硕\n[('王家硕', 0.0), ('刘明骏', 3.605551275463989), ('葛子宁', 4.242640687119285), ('杨启帆', 4.242640687119285), ('肖旭航', 4.242640687119285), ('王一安', 5.5677643628300215), ('熊大为', 8.717797887081348)]\n魏心夷\n[('魏心夷', 0.0), ('吴雯霏', 9.486832980505138), ('ysc', 11.74734012447073), ('Xia', 12.84523257866513), ('刘明骏', 10000000.00000045), ('王家硕', 10000000.0000011), ('葛子宁', 10000000.0000019)]\nysc\n[('ysc', 0.0), ('吴雯霏', 4.242640687119285), ('Xia', 5.196152422706632), ('魏心夷', 7.615773105863909), ('葛子宁', 10000000.0000009), ('熊大为', 10000000.0000011), ('杨启帆', 10000000.0000018)]\n熊大为\n[('熊大为', 0.0), ('葛子宁', 9.643650760992955), ('杨启帆', 9.643650760992955), ('肖旭航', 9.643650760992955), ('王一安', 9.899494936611665), ('王家硕', 11.489125293076057), ('刘明骏', 11.704699910719626)]\n葛子宁Simon Ge\n[('葛子宁', 0.0), ('刘明骏', 4.47213595499958), ('王家硕', 5.0), ('杨启帆', 5.656854249492381), ('肖旭航', 5.656854249492381), ('王一安', 6.708203932499369), ('熊大为', 9.643650760992955)]\nXiaojun Jia\n[('Xia', 0.0), ('吴雯霏', 4.0), ('ysc', 6.4031242374328485), ('魏心夷', 10.954451150103322), ('王一安', 10000000.0000018), ('熊大为', 10000000.0000019), ('杨启帆', 10000000.00000205)]\n王一安\n[('王一安', 0.0), ('杨启帆', 3.605551275463989), ('肖旭航', 3.605551275463989), ('刘明骏', 4.242640687119285), ('王家硕', 5.5677643628300215), ('葛子宁', 5.5677643628300215), ('熊大为', 7.937253933193772)]\n杨启帆 Qifan Yang\n[('杨启帆', 0.0), ('肖旭航', 0.0), ('王一安', 3.605551275463989), ('刘明骏', 5.385164807134504), ('王家硕', 5.830951894845301), ('葛子宁', 7.0710678118654755), ('熊大为', 11.74734012447073)]\n吴雯霏Celia\n[('吴雯霏', 0.0), ('Xia', 2.0), ('ysc', 3.605551275463989), ('魏心夷', 6.928203230275509), ('王一安', 10000000.0000004), ('葛子宁', 10000000.00000065), ('杨启帆', 10000000.00000065)]\nAlex Jiang\n[('Ale', 0.0), ('葛子宁', 10000000.00000045), ('杨启帆', 10000000.00000045), ('肖旭航', 10000000.00000045), ('刘明骏', 10000000.0000011), ('王一安', 10000000.0000011), ('王家硕', 10000000.00000135)]\n周默\n[('周默', 0.0), ('杨启帆', 10000000.0), ('肖旭航', 10000000.0), ('王一安', 10000000.00000065), ('刘明骏', 10000000.000001), ('王家硕', 10000000.00000125), ('葛子宁', 10000000.0000016)]\n肖旭航\n[('杨启帆', 0.0), ('肖旭航', 0.0), ('刘明骏', 3.605551275463989), ('王一安', 3.605551275463989), ('王家硕', 4.242640687119285), ('葛子宁', 4.242640687119285), ('熊大为', 7.615773105863909)]\n"
    }
   ],
   "source": [
    "# College and desire dorm hasn't been considered.\n",
    "res = {}\n",
    "\n",
    "for j in range(0, 13):\n",
    "    temp = []\n",
    "    \n",
    "    own_data = np.array([\n",
    "        data_copy.at[j, '性别（必填）'], \n",
    "        data_copy.at[j, '是否有在寝室开party的需求（必填）'], \n",
    "        data_copy.at[j, '是否有在寝室玩乐器的需求（必填）'], \n",
    "        data_copy.at[j, '是否有使用机械键盘的习惯（必填）'], \n",
    "        data_copy.at[j, '平均睡觉时间（必填）'], \n",
    "        data_copy.at[j, '平均起床时间（必填）'], \n",
    "        data_copy.at[j, '是否有饮酒习惯（必填）'], \n",
    "        data_copy.at[j, '是否有吸烟习惯'],\n",
    "        data_copy.at[j, '室友保持整洁干净的重要性（必填）']\n",
    "    ])\n",
    "    # Weight sequence: gender, party, instrument usage, mechanical keyboard, bed time, drink, smoke and cleaness\n",
    "    weight = np.array([\n",
    "        arbitary_large_num,\n",
    "        party,\n",
    "        music,\n",
    "        keyboard,\n",
    "        data_copy.at[j, '室友和您睡觉时间接近的重要程度（必填）'],\n",
    "        data_copy.at[j, '室友和您睡觉时间接近的重要程度（必填）'],\n",
    "        arbitary_large_num,\n",
    "        arbitary_large_num,\n",
    "        clean\n",
    "    ])\n",
    "    \n",
    "    for i in range(0, 13):\n",
    "        i_data = np.array([\n",
    "            data_copy.at[i, '性别（必填）'], \n",
    "            data_copy.at[i, '是否有在寝室开party的需求（必填）'], \n",
    "            data_copy.at[i, '是否有在寝室玩乐器的需求（必填）'], \n",
    "            data_copy.at[i, '是否有使用机械键盘的习惯（必填）'], \n",
    "            data_copy.at[i, '平均睡觉时间（必填）'], \n",
    "            data_copy.at[i, '平均起床时间（必填）'], \n",
    "            data_copy.at[i, '是否有饮酒习惯（必填）'], \n",
    "            data_copy.at[i, '是否有吸烟习惯'],\n",
    "            data_copy.at[i, '室友保持整洁干净的重要性（必填）']\n",
    "        ])\n",
    "        score = np.linalg.norm((own_data-i_data) * (weight), 2)\n",
    "        temp.append((data_copy.at[i, \"姓名（必填）\"][:3], score))\n",
    "        #print('%s\\'s score with with %s is %f'%(data_copy.at[j, \"姓名（必填）\"], data_copy.at[i, \"姓名（必填）\"], score))\n",
    "    temp.sort(key = lambda x:x[1])\n",
    "    #temp.pop(0)\n",
    "    temp = temp[:7]\n",
    "    print(data_copy.at[j, \"姓名（必填）\"])\n",
    "    print(temp)\n",
    "    res[data_copy.at[j, \"姓名（必填）\"]] = temp\n",
    "\n",
    ""
   ]
  },
  {
   "cell_type": "code",
   "execution_count": null,
   "metadata": {},
   "outputs": [],
   "source": []
  }
 ]
}