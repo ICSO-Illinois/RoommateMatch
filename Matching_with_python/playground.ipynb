{
 "nbformat": 4,
 "nbformat_minor": 2,
 "metadata": {
  "language_info": {
   "name": "python",
   "codemirror_mode": {
    "name": "ipython",
    "version": 3
   },
   "version": "3.7.7-final"
  },
  "orig_nbformat": 2,
  "file_extension": ".py",
  "mimetype": "text/x-python",
  "name": "python",
  "npconvert_exporter": "python",
  "pygments_lexer": "ipython3",
  "version": 3,
  "kernelspec": {
   "name": "python37564bitbasecondae1ac885941904b418da0546040deb029",
   "display_name": "Python 3.7.5 64-bit ('base': conda)"
  }
 },
 "cells": [
  {
   "cell_type": "code",
   "execution_count": 41,
   "metadata": {},
   "outputs": [],
   "source": [
    "import pandas as pd\n",
    "import numpy as np"
   ]
  },
  {
   "cell_type": "code",
   "execution_count": 62,
   "metadata": {},
   "outputs": [],
   "source": [
    "# data_file\n",
    "data = pd.read_excel(r\"D:\\Documents\\UIUC\\ICSO\\RommateMatch\\File\\MatchFile.xlsx\")\n",
    "# weight\n",
    "arbitary_large_num = 10000000\n",
    "party = 4\n",
    "music = 3\n",
    "keyboard = 2\n",
    "clean = 3"
   ]
  },
  {
   "cell_type": "code",
   "execution_count": 65,
   "metadata": {},
   "outputs": [
    {
     "output_type": "execute_result",
     "data": {
      "text/plain": "       姓名（必填）  性别（必填）             您的学校邮箱（必填）  \\\n0       战术核显卡       0  chenhui5@illinois.edu   \n1  嘤嘤嘤呜呜呜呜嘤嘤嘤       0  yihongj2@illinois.edu   \n2          孙山       0  shansun2@illinois.edu   \n3         abc       0      yj17@illinois.edu   \n\n                                     所偏好的所有PCH宿舍（必填）  \\\n0                                        Presby Hall   \n1  Illini Tower, Newman Hall, Presby Hall, None o...   \n2                                      None of above   \n3  Armory House, Bromley Hall, Brown House on Col...   \n\n                                     所偏好的所有URH宿舍（必填）  是否有在寝室开party的需求（必填）  \\\n0                 URBANA NORTH (Unit One/Allen Hall）                    1   \n1  URBANA NORTH (Unit One/Allen Hall）, URBANA NOR...                    0   \n2                   IKENBERRY COMMONS SOUTH (Snyder)                    0   \n3  URBANA NORTH (Unit One/Allen Hall）, URBANA NOR...                    1   \n\n   是否有在寝室玩乐器的需求（必填）  是否有使用机械键盘的习惯（必填）  平均睡觉时间（必填）  平均起床时间（必填）  ...  \\\n0                 1                 1           5           5  ...   \n1                 1                 0           2           4  ...   \n2                 1                 0           3           3  ...   \n3                 1                 1           3           3  ...   \n\n  室友和您睡觉时间接近的重要程度（必填）                                 希望室友所在的学院（可多选）（必填）  \\\n0                   3  The Grainger College of Engineering., College ...   \n1                   5  The Grainger College of Engineering., College ...   \n2                   0  The Grainger College of Engineering., College ...   \n3                   3  The Grainger College of Engineering., College ...   \n\n   我同意将我的邮箱自动发送给推荐的匹配室友（必填） 我已知晓除姓名邮箱以外的所有信息都不会泄漏给任何个体或者组织（必填）  是否有饮酒习惯（必填）  \\\n0                         0                                  0            1   \n1                         0                                  0            0   \n2                         0                                  0            0   \n3                         0                                  0            1   \n\n   是否有吸烟习惯  室友保持整洁干净的重要性（必填）  是否接受室友吸烟（必填）  是否接受室友饮酒（必填）  希望留给推荐匹配室友的话（必填）  \n0        1                 5             0             0               Lol  \n1        1                 3             0             1         嘤嘤嘤呜呜呜嘤嘤嘤  \n2        1                 3             0             1           你好 我是傻狗  \n3        1                 4             0             0              hhhh  \n\n[4 rows x 22 columns]",
      "text/html": "<div>\n<style scoped>\n    .dataframe tbody tr th:only-of-type {\n        vertical-align: middle;\n    }\n\n    .dataframe tbody tr th {\n        vertical-align: top;\n    }\n\n    .dataframe thead th {\n        text-align: right;\n    }\n</style>\n<table border=\"1\" class=\"dataframe\">\n  <thead>\n    <tr style=\"text-align: right;\">\n      <th></th>\n      <th>姓名（必填）</th>\n      <th>性别（必填）</th>\n      <th>您的学校邮箱（必填）</th>\n      <th>所偏好的所有PCH宿舍（必填）</th>\n      <th>所偏好的所有URH宿舍（必填）</th>\n      <th>是否有在寝室开party的需求（必填）</th>\n      <th>是否有在寝室玩乐器的需求（必填）</th>\n      <th>是否有使用机械键盘的习惯（必填）</th>\n      <th>平均睡觉时间（必填）</th>\n      <th>平均起床时间（必填）</th>\n      <th>...</th>\n      <th>室友和您睡觉时间接近的重要程度（必填）</th>\n      <th>希望室友所在的学院（可多选）（必填）</th>\n      <th>我同意将我的邮箱自动发送给推荐的匹配室友（必填）</th>\n      <th>我已知晓除姓名邮箱以外的所有信息都不会泄漏给任何个体或者组织（必填）</th>\n      <th>是否有饮酒习惯（必填）</th>\n      <th>是否有吸烟习惯</th>\n      <th>室友保持整洁干净的重要性（必填）</th>\n      <th>是否接受室友吸烟（必填）</th>\n      <th>是否接受室友饮酒（必填）</th>\n      <th>希望留给推荐匹配室友的话（必填）</th>\n    </tr>\n  </thead>\n  <tbody>\n    <tr>\n      <th>0</th>\n      <td>战术核显卡</td>\n      <td>0</td>\n      <td>chenhui5@illinois.edu</td>\n      <td>Presby Hall</td>\n      <td>URBANA NORTH (Unit One/Allen Hall）</td>\n      <td>1</td>\n      <td>1</td>\n      <td>1</td>\n      <td>5</td>\n      <td>5</td>\n      <td>...</td>\n      <td>3</td>\n      <td>The Grainger College of Engineering., College ...</td>\n      <td>0</td>\n      <td>0</td>\n      <td>1</td>\n      <td>1</td>\n      <td>5</td>\n      <td>0</td>\n      <td>0</td>\n      <td>Lol</td>\n    </tr>\n    <tr>\n      <th>1</th>\n      <td>嘤嘤嘤呜呜呜呜嘤嘤嘤</td>\n      <td>0</td>\n      <td>yihongj2@illinois.edu</td>\n      <td>Illini Tower, Newman Hall, Presby Hall, None o...</td>\n      <td>URBANA NORTH (Unit One/Allen Hall）, URBANA NOR...</td>\n      <td>0</td>\n      <td>1</td>\n      <td>0</td>\n      <td>2</td>\n      <td>4</td>\n      <td>...</td>\n      <td>5</td>\n      <td>The Grainger College of Engineering., College ...</td>\n      <td>0</td>\n      <td>0</td>\n      <td>0</td>\n      <td>1</td>\n      <td>3</td>\n      <td>0</td>\n      <td>1</td>\n      <td>嘤嘤嘤呜呜呜嘤嘤嘤</td>\n    </tr>\n    <tr>\n      <th>2</th>\n      <td>孙山</td>\n      <td>0</td>\n      <td>shansun2@illinois.edu</td>\n      <td>None of above</td>\n      <td>IKENBERRY COMMONS SOUTH (Snyder)</td>\n      <td>0</td>\n      <td>1</td>\n      <td>0</td>\n      <td>3</td>\n      <td>3</td>\n      <td>...</td>\n      <td>0</td>\n      <td>The Grainger College of Engineering., College ...</td>\n      <td>0</td>\n      <td>0</td>\n      <td>0</td>\n      <td>1</td>\n      <td>3</td>\n      <td>0</td>\n      <td>1</td>\n      <td>你好 我是傻狗</td>\n    </tr>\n    <tr>\n      <th>3</th>\n      <td>abc</td>\n      <td>0</td>\n      <td>yj17@illinois.edu</td>\n      <td>Armory House, Bromley Hall, Brown House on Col...</td>\n      <td>URBANA NORTH (Unit One/Allen Hall）, URBANA NOR...</td>\n      <td>1</td>\n      <td>1</td>\n      <td>1</td>\n      <td>3</td>\n      <td>3</td>\n      <td>...</td>\n      <td>3</td>\n      <td>The Grainger College of Engineering., College ...</td>\n      <td>0</td>\n      <td>0</td>\n      <td>1</td>\n      <td>1</td>\n      <td>4</td>\n      <td>0</td>\n      <td>0</td>\n      <td>hhhh</td>\n    </tr>\n  </tbody>\n</table>\n<p>4 rows × 22 columns</p>\n</div>"
     },
     "metadata": {},
     "execution_count": 65
    }
   ],
   "source": [
    "# Preprocess data, replace some cells and drop duplicate emails/names\n",
    "data_copy = data.copy().drop(columns=[\"提交者（自动）\",\"提交时间（自动）\"]).drop_duplicates(['您的学校邮箱（必填）']).drop_duplicates(['姓名（必填）'])\n",
    "data_copy = data_copy.replace({'Male':0,\"Female\":1,False:1, True:0, 'Yes':1, 'No':0})\n",
    "data_copy = data_copy.replace(['Before 22:00', '22:00 - 22:59', \"23:00 - 23:59\", \"00:00 - 00:59\", 'After 01:00 a.m.'], [1, 2, 3, 4, 5])\n",
    "data_copy = data_copy.replace([\"Before 06:00\", \"06:00 - 06:59\", \"07:00 - 07:59\", \"08:00 - 08:59\", \"After 09:00 a.m.\"], [1, 2, 3, 4, 5])\n",
    "data_copy.head()"
   ]
  },
  {
   "cell_type": "code",
   "execution_count": 68,
   "metadata": {},
   "outputs": [
    {
     "output_type": "stream",
     "name": "stdout",
     "text": "战术核显卡's score with with 战术核显卡 is 0.000000\n战术核显卡's score with with 嘤嘤嘤呜呜呜呜嘤嘤嘤 is 10000000.000007\n战术核显卡's score with with 孙山 is 10000000.000006\n战术核显卡's score with with abc is 9.000000\n嘤嘤嘤呜呜呜呜嘤嘤嘤's score with with 战术核显卡 is 10000000.000015\n嘤嘤嘤呜呜呜呜嘤嘤嘤's score with with 嘤嘤嘤呜呜呜呜嘤嘤嘤 is 0.000000\n嘤嘤嘤呜呜呜呜嘤嘤嘤's score with with 孙山 is 7.071068\n嘤嘤嘤呜呜呜呜嘤嘤嘤's score with with abc is 10000000.000004\n孙山's score with with 战术核显卡 is 10000000.000003\n孙山's score with with 嘤嘤嘤呜呜呜呜嘤嘤嘤 is 0.000000\n孙山's score with with 孙山 is 0.000000\n孙山's score with with abc is 10000000.000001\nabc's score with with 战术核显卡 is 9.000000\nabc's score with with 嘤嘤嘤呜呜呜呜嘤嘤嘤 is 10000000.000002\nabc's score with with 孙山 is 10000000.000001\nabc's score with with abc is 0.000000\n"
    }
   ],
   "source": [
    "# College and desire dorm hasn't been considered.\n",
    "for j in range(0, 4):\n",
    "    own_data = np.array([\n",
    "        data_copy.at[j, '性别（必填）'], \n",
    "        data_copy.at[j, '是否有在寝室开party的需求（必填）'], \n",
    "        data_copy.at[j, '是否有在寝室玩乐器的需求（必填）'], \n",
    "        data_copy.at[j, '是否有使用机械键盘的习惯（必填）'], \n",
    "        data_copy.at[j, '平均睡觉时间（必填）'], \n",
    "        data_copy.at[j, '平均起床时间（必填）'], \n",
    "        data_copy.at[j, '是否有饮酒习惯（必填）'], \n",
    "        data_copy.at[j, '是否有吸烟习惯'],\n",
    "        data_copy.at[j, '室友保持整洁干净的重要性（必填）']\n",
    "    ])\n",
    "    # Weight sequence: gender, party, instrument usage, mechanical keyboard, bed time, drink, smoke and cleaness\n",
    "    weight = np.array([\n",
    "        arbitary_large_num,\n",
    "        party,\n",
    "        music,\n",
    "        keyboard,\n",
    "        data_copy.at[j, '室友和您睡觉时间接近的重要程度（必填）'],\n",
    "        data_copy.at[j, '室友和您睡觉时间接近的重要程度（必填）'],\n",
    "        arbitary_large_num,\n",
    "        arbitary_large_num,\n",
    "        clean\n",
    "    ])\n",
    "    for i in range(0, 4):\n",
    "        i_data = np.array([\n",
    "            data_copy.at[i, '性别（必填）'], \n",
    "            data_copy.at[i, '是否有在寝室开party的需求（必填）'], \n",
    "            data_copy.at[i, '是否有在寝室玩乐器的需求（必填）'], \n",
    "            data_copy.at[i, '是否有使用机械键盘的习惯（必填）'], \n",
    "            data_copy.at[i, '平均睡觉时间（必填）'], \n",
    "            data_copy.at[i, '平均起床时间（必填）'], \n",
    "            data_copy.at[i, '是否有饮酒习惯（必填）'], \n",
    "            data_copy.at[i, '是否有吸烟习惯'],\n",
    "            data_copy.at[i, '室友保持整洁干净的重要性（必填）']\n",
    "        ])\n",
    "        score = np.linalg.norm((own_data-i_data) * (weight), 2)\n",
    "        print('%s\\'s score with with %s is %f'%(data_copy.at[j, \"姓名（必填）\"], data_copy.at[i, \"姓名（必填）\"], score))"
   ]
  },
  {
   "cell_type": "code",
   "execution_count": null,
   "metadata": {},
   "outputs": [],
   "source": []
  }
 ]
}